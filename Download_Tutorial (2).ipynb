{
 "cells": [
  {
   "cell_type": "markdown",
   "metadata": {},
   "source": [
    "## Downloading Data via ArcGIS Online"
   ]
  },
  {
   "cell_type": "code",
   "execution_count": 1,
   "metadata": {},
   "outputs": [],
   "source": [
    "from arcgis.gis import GIS\n",
    "\n",
    "from pathlib import Path\n",
    "from zipfile import ZipFile"
   ]
  },
  {
   "cell_type": "markdown",
   "metadata": {},
   "source": [
    "Below, we're accessing a public data item hosted on ArcGIS Online using the item's unique id."
   ]
  },
  {
   "cell_type": "code",
   "execution_count": 2,
   "metadata": {},
   "outputs": [],
   "source": [
    "public_data_item_id = 'a04933c045714492bda6886f355416f2'"
   ]
  },
  {
   "cell_type": "code",
   "execution_count": 3,
   "metadata": {},
   "outputs": [],
   "source": [
    "anon_gis = GIS()"
   ]
  },
  {
   "cell_type": "markdown",
   "metadata": {},
   "source": [
    "The content property for gis is an instance of a ContentManager that is used to manage content on ArcGIS Online. Below, get() makes a request to the ArcGIS REST API to retrieve an Item object 'data_item'."
   ]
  },
  {
   "cell_type": "code",
   "execution_count": 4,
   "metadata": {},
   "outputs": [
    {
     "data": {
      "text/html": [
       "<div class=\"item_container\" style=\"height: auto; overflow: hidden; border: 1px solid #cfcfcf; border-radius: 2px; background: #f6fafa; line-height: 1.21429em; padding: 10px;\">\n",
       "                    <div class=\"item_left\" style=\"width: 210px; float: left;\">\n",
       "                       <a href='https://www.arcgis.com/home/item.html?id=a04933c045714492bda6886f355416f2' target='_blank'>\n",
       "                        <img src='https://www.arcgis.com/sharing/rest//content/items/a04933c045714492bda6886f355416f2/info/thumbnail/thumbnail.png' class=\"itemThumbnail\">\n",
       "                       </a>\n",
       "                    </div>\n",
       "\n",
       "                    <div class=\"item_right\"     style=\"float: none; width: auto; overflow: hidden;\">\n",
       "                        <a href='https://www.arcgis.com/home/item.html?id=a04933c045714492bda6886f355416f2' target='_blank'><b>LA_Hub_Datasets</b>\n",
       "                        </a>\n",
       "                        <br/>Datasets for ArcGIS DevLabs<img src='https://www.arcgis.com/home/js/jsapi/esri/css/images/item_type_icons/layers16.png' style=\"vertical-align:middle;\">Code Sample by esri_devlabs\n",
       "                        <br/>Last Modified: April 08, 2019\n",
       "                        <br/>1 comments, 9,988 views\n",
       "                    </div>\n",
       "                </div>\n",
       "                "
      ],
      "text/plain": [
       "<Item title:\"LA_Hub_Datasets\" type:Code Sample owner:esri_devlabs>"
      ]
     },
     "execution_count": 4,
     "metadata": {},
     "output_type": "execute_result"
    }
   ],
   "source": [
    "data_item = anon_gis.content.get(public_data_item_id)\n",
    "data_item"
   ]
  },
  {
   "cell_type": "markdown",
   "metadata": {},
   "source": [
    "Set the path where the data will be downloaded. If that path doesn't currently exist, then create the path.\n",
    "Download the LA_Hub_Datasets.zip to the current location of the notebook. Then, configure where the data will be saved, and where the zip is located."
   ]
  },
  {
   "cell_type": "code",
   "execution_count": 8,
   "metadata": {},
   "outputs": [
    {
     "data": {
      "text/plain": [
       "'C:\\\\Users\\\\Matt\\\\Documents\\\\Data\\\\ArcGIS_API_for_Python\\\\LA_Hub_Datasets.zip'"
      ]
     },
     "execution_count": 8,
     "metadata": {},
     "output_type": "execute_result"
    }
   ],
   "source": [
    "data_path = Path(r'C:\\Users\\Matt\\Documents\\Data\\ArcGIS_API_for_Python')\n",
    "\n",
    "if not data_path.exists():\n",
    "    data_path.mkdir()\n",
    "    \n",
    "zip_path = data_path.joinpath('LA_Hub_Datasets.zip')\n",
    "extract_path = data_path.joinpath('LA_Hub_datasets\\LA_Hub_Datasets\\LA_Hub_Datasets')\n",
    "\n",
    "data_item.download(save_path=data_path)"
   ]
  },
  {
   "cell_type": "markdown",
   "metadata": {},
   "source": [
    "Extract all zip files to the extract_path"
   ]
  },
  {
   "cell_type": "code",
   "execution_count": 9,
   "metadata": {
    "scrolled": false
   },
   "outputs": [],
   "source": [
    "zip_file = ZipFile(zip_path)\n",
    "zip_file.extractall(path=extract_path)"
   ]
  },
  {
   "cell_type": "markdown",
   "metadata": {},
   "source": [
    "List all names of the files in the extract_path. We now see all three files!"
   ]
  },
  {
   "cell_type": "code",
   "execution_count": 10,
   "metadata": {
    "scrolled": true
   },
   "outputs": [
    {
     "data": {
      "text/plain": [
       "['LA_Hub_Datasets',\n",
       " 'Parks_and_Open_Space.zip',\n",
       " 'Trailheads.csv',\n",
       " 'Trails.geojson',\n",
       " '__MACOSX']"
      ]
     },
     "execution_count": 10,
     "metadata": {},
     "output_type": "execute_result"
    }
   ],
   "source": [
    "list(file.name for file in extract_path.glob('*'))"
   ]
  },
  {
   "cell_type": "markdown",
   "metadata": {},
   "source": [
    "## Importing Data to Jupyter Notebook"
   ]
  },
  {
   "cell_type": "markdown",
   "metadata": {},
   "source": [
    "Log in to ArcGIS Online via a Developer account."
   ]
  },
  {
   "cell_type": "code",
   "execution_count": 13,
   "metadata": {
    "scrolled": false
   },
   "outputs": [],
   "source": [
    "gis = GIS(\"https://www.arcgis.com\", username=\"#\", password=\"#\")"
   ]
  },
  {
   "cell_type": "markdown",
   "metadata": {},
   "source": [
    "Import the Parks and Open Space .zip file. Below, we're making a dictionary to store the three fields of metadata for the shapefile."
   ]
  },
  {
   "cell_type": "code",
   "execution_count": 16,
   "metadata": {},
   "outputs": [],
   "source": [
    "parks = {\n",
    "    'title': 'Parks and Open Space',\n",
    "    'tags': 'parks, open data, tutorials',\n",
    "    'type': 'Shapefile'\n",
    "}"
   ]
  },
  {
   "cell_type": "markdown",
   "metadata": {},
   "source": [
    "Load the data as a feature layer with a content manager by callin gis.content.add which returns an Item object."
   ]
  },
  {
   "cell_type": "code",
   "execution_count": 38,
   "metadata": {},
   "outputs": [],
   "source": [
    "data_file_location = r'C:\\Users\\Matt\\Documents\\Data\\ArcGIS_API_for_Python\\LA_Hub_datasets\\LA_Hub_Datasets\\LA_Hub_Datasets\\Parks_and_Open_Space.zip'\n",
    "#parks_shp = gis.content.add(parks, data=data_file_location)"
   ]
  },
  {
   "cell_type": "code",
   "execution_count": 20,
   "metadata": {},
   "outputs": [
    {
     "data": {
      "text/html": [
       "<div class=\"item_container\" style=\"height: auto; overflow: hidden; border: 1px solid #cfcfcf; border-radius: 2px; background: #f6fafa; line-height: 1.21429em; padding: 10px;\">\n",
       "                    <div class=\"item_left\" style=\"width: 210px; float: left;\">\n",
       "                       <a href='https://ru-geospatial.maps.arcgis.com/home/item.html?id=e46fbaaba4a74a63953862bf68e04f81' target='_blank'>\n",
       "                        <img src='http://static.arcgis.com/images/desktopapp.png' class=\"itemThumbnail\">\n",
       "                       </a>\n",
       "                    </div>\n",
       "\n",
       "                    <div class=\"item_right\"     style=\"float: none; width: auto; overflow: hidden;\">\n",
       "                        <a href='https://ru-geospatial.maps.arcgis.com/home/item.html?id=e46fbaaba4a74a63953862bf68e04f81' target='_blank'><b>Parks and Open Space</b>\n",
       "                        </a>\n",
       "                        <br/><img src='https://ru-geospatial.maps.arcgis.com/home/js/jsapi/esri/css/images/item_type_icons/datafiles16.png' style=\"vertical-align:middle;\">Shapefile by MCrichton1\n",
       "                        <br/>Last Modified: January 04, 2020\n",
       "                        <br/>0 comments, 0 views\n",
       "                    </div>\n",
       "                </div>\n",
       "                "
      ],
      "text/plain": [
       "<Item title:\"Parks and Open Space\" type:Shapefile owner:MCrichton1>"
      ]
     },
     "execution_count": 20,
     "metadata": {},
     "output_type": "execute_result"
    }
   ],
   "source": [
    "parks_shp"
   ]
  },
  {
   "cell_type": "markdown",
   "metadata": {},
   "source": [
    "Now call the publish method of parks_shp to publish the shapefile, which returns another arcgis.gis.Item instance for the feature layer."
   ]
  },
  {
   "cell_type": "code",
   "execution_count": 39,
   "metadata": {},
   "outputs": [
    {
     "data": {
      "text/plain": [
       "<bound method Item.publish of <Item title:\"Parks and Open Space\" type:Shapefile owner:MCrichton1>>"
      ]
     },
     "execution_count": 39,
     "metadata": {},
     "output_type": "execute_result"
    }
   ],
   "source": [
    "parks_feature_layer_item = parks_shp.publish\n",
    "parks_feature_layer_item\n",
    "# https://ru-geospatial.maps.arcgis.com/home/item.html?id=d2e15bb29ea9404d88ada17d38a0a3e6"
   ]
  },
  {
   "cell_type": "markdown",
   "metadata": {},
   "source": [
    "Now, publish the Trailheads.csv and Trails.geojson files."
   ]
  },
  {
   "cell_type": "code",
   "execution_count": 44,
   "metadata": {},
   "outputs": [],
   "source": [
    "Trailheads = {\n",
    "    'title': 'Trailheads',\n",
    "    'tags': 'trails, open data, tutorials',\n",
    "    'type': 'CSV'\n",
    "}\n",
    "trailHeads_file_location = r'C:\\Users\\Matt\\Documents\\Data\\ArcGIS_API_for_Python\\LA_Hub_datasets\\LA_Hub_Datasets\\LA_Hub_Datasets\\Trailheads.csv'\n",
    "trailHeads\n",
    "trailHeads_csv_item = gis.content.add({}, trailHeads_file_location)"
   ]
  },
  {
   "cell_type": "code",
   "execution_count": 45,
   "metadata": {},
   "outputs": [
    {
     "data": {
      "text/html": [
       "<div class=\"item_container\" style=\"height: auto; overflow: hidden; border: 1px solid #cfcfcf; border-radius: 2px; background: #f6fafa; line-height: 1.21429em; padding: 10px;\">\n",
       "                    <div class=\"item_left\" style=\"width: 210px; float: left;\">\n",
       "                       <a href='https://ru-geospatial.maps.arcgis.com/home/item.html?id=087c56793f834a5992203fa2d5cf076b' target='_blank'>\n",
       "                        <img src='http://static.arcgis.com/images/desktopapp.png' class=\"itemThumbnail\">\n",
       "                       </a>\n",
       "                    </div>\n",
       "\n",
       "                    <div class=\"item_right\"     style=\"float: none; width: auto; overflow: hidden;\">\n",
       "                        <a href='https://ru-geospatial.maps.arcgis.com/home/item.html?id=087c56793f834a5992203fa2d5cf076b' target='_blank'><b>Trailheads</b>\n",
       "                        </a>\n",
       "                        <br/><img src='https://ru-geospatial.maps.arcgis.com/home/js/jsapi/esri/css/images/item_type_icons/layers16.png' style=\"vertical-align:middle;\">CSV by MCrichton1\n",
       "                        <br/>Last Modified: January 04, 2020\n",
       "                        <br/>0 comments, 0 views\n",
       "                    </div>\n",
       "                </div>\n",
       "                "
      ],
      "text/plain": [
       "<Item title:\"Trailheads\" type:CSV owner:MCrichton1>"
      ]
     },
     "metadata": {},
     "output_type": "display_data"
    }
   ],
   "source": [
    "display(trailHeads_csv_item)"
   ]
  },
  {
   "cell_type": "code",
   "execution_count": null,
   "metadata": {},
   "outputs": [],
   "source": [
    "trails = {\n",
    "    'title': 'Trails',\n",
    "    'tags': 'trails, open data',\n",
    "    'type': 'GeoJson'\n",
    "}\n",
    "trails_file_location = r'C:\\Users\\Matt\\Documents\\Data\\ArcGIS_API_for_Python\\LA_Hub_datasets\\LA_Hub_Datasets\\LA_Hub_Datasets\\Trails.geojson'\n",
    "trails_geojson_item = gis.content.add(trails, trails_file_location)"
   ]
  }
 ],
 "metadata": {
  "kernelspec": {
   "display_name": "Python 3",
   "language": "python",
   "name": "python3"
  },
  "language_info": {
   "codemirror_mode": {
    "name": "ipython",
    "version": 3
   },
   "file_extension": ".py",
   "mimetype": "text/x-python",
   "name": "python",
   "nbconvert_exporter": "python",
   "pygments_lexer": "ipython3",
   "version": "3.6.9"
  }
 },
 "nbformat": 4,
 "nbformat_minor": 2
}
